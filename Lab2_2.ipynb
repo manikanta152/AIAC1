{
  "nbformat": 4,
  "nbformat_minor": 0,
  "metadata": {
    "colab": {
      "provenance": [],
      "authorship_tag": "ABX9TyMejJtd9GtaD7Q52FpDfWcK",
      "include_colab_link": true
    },
    "kernelspec": {
      "name": "python3",
      "display_name": "Python 3"
    },
    "language_info": {
      "name": "python"
    }
  },
  "cells": [
    {
      "cell_type": "markdown",
      "metadata": {
        "id": "view-in-github",
        "colab_type": "text"
      },
      "source": [
        "<a href=\"https://colab.research.google.com/github/manikanta152/AIAC1/blob/main/Lab2_2.ipynb\" target=\"_parent\"><img src=\"https://colab.research.google.com/assets/colab-badge.svg\" alt=\"Open In Colab\"/></a>"
      ]
    },
    {
      "cell_type": "markdown",
      "source": [
        "task 0: write a python program to check whether the given number is prime number or not"
      ],
      "metadata": {
        "id": "MeqTjCnE3YUZ"
      }
    },
    {
      "cell_type": "code",
      "source": [
        "def is_prime(num):\n",
        "  \"\"\"Checks if a number is prime.\"\"\"\n",
        "  if num <= 1:\n",
        "    return False\n",
        "  for i in range(2, int(num**0.5) + 1):\n",
        "    if num % i == 0:\n",
        "      return False\n",
        "  return True\n",
        "\n",
        "# Example usage:\n",
        "print(is_prime(11))\n",
        "print(is_prime(4))"
      ],
      "metadata": {
        "colab": {
          "base_uri": "https://localhost:8080/"
        },
        "id": "PgonwR2i3g6S",
        "outputId": "fe0ca5d5-1c51-4878-d7b9-a5ce2b915a73"
      },
      "execution_count": 3,
      "outputs": [
        {
          "output_type": "stream",
          "name": "stdout",
          "text": [
            "True\n",
            "False\n"
          ]
        }
      ]
    },
    {
      "cell_type": "markdown",
      "source": [
        "This code defines a Python function called is_prime that takes one argument, num.\n",
        "\n",
        "Here's how it works:\n",
        "\n",
        "def is_prime(num):: This line defines the function is_prime and indicates that it accepts one argument, num.\n",
        "\"\"\"Checks if a number is prime.\"\"\": This is a docstring, which explains what the function does.\n",
        "if num <= 1:: This checks if the input number num is less than or equal to 1. Prime numbers are greater than 1, so if this condition is true, the function immediately returns False.\n",
        "`for i in range(2, int(num0.5) + 1):**: This starts aforloop. It iterates through numbers starting from 2 up to the square root ofnum` (inclusive). We only need to check for divisors up to the square root because if a number has a divisor greater than its square root, it must also have a divisor smaller than its square root.\n",
        "if num % i == 0:: Inside the loop, this checks if num is perfectly divisible by the current number i. If it is, it means num has a divisor other than 1 and itself, so it's not prime. In this case, the function returns False.\n",
        "return True: If the loop finishes without finding any divisors (meaning the if num % i == 0: condition was never met), it means the number is prime, and the function returns True.\n",
        "The lines after the function definition are examples of how to use the is_prime function, printing the result for the numbers 11 and 4."
      ],
      "metadata": {
        "id": "0sIY64Al4GLs"
      }
    },
    {
      "cell_type": "markdown",
      "source": [
        "task 1:Use Gemini in Colab to write a function that filters out all negative numbers from a\n",
        "given list."
      ],
      "metadata": {
        "id": "sRko9s3y4LYw"
      }
    },
    {
      "cell_type": "code",
      "source": [
        "def filter_negative_numbers(input_list):\n",
        "  \"\"\"Filters out negative numbers from a list.\"\"\"\n",
        "  return [num for num in input_list if num >= 0]\n",
        "\n",
        "# Example usage:\n",
        "my_list = [1, -2, 3, -4, 5, 0, -6]\n",
        "filtered_list = filter_negative_numbers(my_list)\n",
        "print(filtered_list)"
      ],
      "metadata": {
        "id": "JQe8_6qT5wTj"
      },
      "execution_count": null,
      "outputs": []
    },
    {
      "cell_type": "markdown",
      "source": [
        "This code defines a Python function called filter_negative_numbers that takes one argument, input_list.\n",
        "\n",
        "Here's how it works:\n",
        "\n",
        "def filter_negative_numbers(input_list):: This line defines the function filter_negative_numbers and indicates that it accepts one argument, input_list.\n",
        "\"\"\"Filters out negative numbers from a list.\"\"\": This is a docstring, which explains what the function does.\n",
        "return [num for num in input_list if num >= 0]: This is a list comprehension. It creates a new list by iterating through each element (num) in the input_list. For each num, it checks if num is greater than or equal to 0 (if num >= 0). If the condition is true, the num is included in the new list. Finally, the function returns this new list containing only the non-negative numbers.\n",
        "The lines after the function definition are examples of how to use the filter_negative_numbers function:\n",
        "\n",
        "my_list = [1, -2, 3, -4, 5, 0, -6]: This creates a sample list called my_list containing both positive, negative, and zero numbers.\n",
        "filtered_list = filter_negative_numbers(my_list): This calls the filter_negative_numbers function with my_list as input and stores the returned filtered list in the variable filtered_list.\n",
        "print(filtered_list): This prints the contents of the filtered_list to the console."
      ],
      "metadata": {
        "id": "VW4yP17Z6FOB"
      }
    },
    {
      "cell_type": "markdown",
      "source": [
        "task 2:Ask Gemini to generate code that reads a text file and counts the frequency of each\n",
        "word. Then ask it to explain the code"
      ],
      "metadata": {
        "id": "HE-usjC26WST"
      }
    },
    {
      "cell_type": "code",
      "source": [
        "from collections import Counter\n",
        "import re\n",
        "\n",
        "def count_word_frequency(filepath):\n",
        "  \"\"\"\n",
        "  Reads a text file and counts the frequency of each word.\n",
        "\n",
        "  Args:\n",
        "    filepath: The path to the text file.\n",
        "\n",
        "  Returns:\n",
        "    A dictionary where keys are words and values are their frequencies.\n",
        "  \"\"\"\n",
        "  try:\n",
        "    with open(filepath, 'r', encoding='utf-8') as file:\n",
        "      text = file.read().lower()\n",
        "      # Remove punctuation and split into words\n",
        "      words = re.findall(r'\\b\\w+\\b', text)\n",
        "      word_counts = Counter(words)\n",
        "      return dict(word_counts)\n",
        "  except FileNotFoundError:\n",
        "    return {\"error\": f\"File not found at {filepath}\"}\n",
        "  except Exception as e:\n",
        "    return {\"error\": f\"An error occurred: {e}\"}\n",
        "\n",
        "# Example usage:\n",
        "# Create a dummy text file for demonstration\n",
        "with open(\"sample.txt\", \"w\") as f:\n",
        "    f.write(\"This is a sample text file. This file is for testing.\")\n",
        "\n",
        "word_frequencies = count_word_frequency(\"sample.txt\")\n",
        "print(word_frequencies)"
      ],
      "metadata": {
        "id": "gVJTryXW6gK5"
      },
      "execution_count": null,
      "outputs": []
    },
    {
      "cell_type": "markdown",
      "source": [
        "This code defines a Python function called count_word_frequency that takes the path to a text file as input and returns a dictionary containing the frequency of each word in the file.\n",
        "\n",
        "Here's a breakdown of the code:\n",
        "\n",
        "from collections import Counter: This line imports the Counter class from the collections module. Counter is a specialized dictionary subclass for counting hashable objects.\n",
        "import re: This line imports the re module, which provides support for regular expressions.\n",
        "def count_word_frequency(filepath):: This defines the function count_word_frequency that takes one argument, filepath, which is the path to the text file.\n",
        "\"\"\"Docstring explaining the function.\"\"\": This is a docstring that describes what the function does, its arguments, and what it returns.\n",
        "try...except block: This block is used for error handling. It tries to execute the code within the try block and catches potential exceptions like FileNotFoundError (if the file doesn't exist) or other general Exceptions.\n",
        "with open(filepath, 'r', encoding='utf-8') as file:: This opens the file specified by filepath in read mode ('r') with UTF-8 encoding. The with statement ensures that the file is automatically closed even if errors occur.\n",
        "text = file.read().lower(): This reads the entire content of the file into the text variable and converts it to lowercase using .lower(). This ensures that words like \"The\" and \"the\" are treated as the same word.\n",
        "words = re.findall(r'\\b\\w+\\b', text): This line uses a regular expression to find all word boundaries (\\b) followed by one or more word characters (\\w+) and another word boundary. This effectively extracts words from the text while ignoring punctuation and spaces.\n",
        "word_counts = Counter(words): This creates a Counter object named word_counts from the list of words. The Counter automatically counts the occurrences of each unique word.\n",
        "return dict(word_counts): This converts the Counter object word_counts into a regular dictionary and returns it.\n",
        "except FileNotFoundError:: If a FileNotFoundError occurs (the file doesn't exist), this block is executed, and a dictionary with an error message is returned.\n",
        "except Exception as e:: This catches any other general exceptions that might occur during file processing and returns a dictionary with a generic error message including the exception details.\n",
        "The lines after the function definition show an example of how to use the function:\n",
        "\n",
        "with open(\"sample.txt\", \"w\") as f:: This creates a dummy text file named \"sample.txt\" in write mode (\"w\") and writes some sample text into it.\n",
        "word_frequencies = count_word_frequency(\"sample.txt\"): This calls the count_word_frequency function with the path to the dummy file and stores the returned word frequency dictionary in the word_frequencies variable.\n",
        "print(word_frequencies): This prints the word_frequencies dictionary to the console, showing the count of each word in the sample text file."
      ],
      "metadata": {
        "id": "9e_60-lK64p_"
      }
    },
    {
      "cell_type": "markdown",
      "source": [
        "task 3:Use Cursor AI to generate a Python class called Book with attributes title, author, and\n",
        "a method summary() that prints the details."
      ],
      "metadata": {
        "id": "JTA2IiOE7XGH"
      }
    },
    {
      "cell_type": "code",
      "source": [
        "class Book:\n",
        "  \"\"\"A class to represent a book.\"\"\"\n",
        "  def __init__(self, title, author):\n",
        "    \"\"\"Initializes a new Book object.\"\"\"\n",
        "    self.title = title\n",
        "    self.author = author\n",
        "\n",
        "  def summary(self):\n",
        "    \"\"\"Prints the details of the book.\"\"\"\n",
        "    print(f\"Title: {self.title}\")\n",
        "    print(f\"Author: {self.author}\")\n",
        "\n",
        "# Example usage:\n",
        "my_book = Book(\"The Hitchhiker's Guide to the Galaxy\", \"Douglas Adams\")\n",
        "my_book.summary()"
      ],
      "metadata": {
        "id": "gayuvSyG7bb8"
      },
      "execution_count": null,
      "outputs": []
    },
    {
      "cell_type": "markdown",
      "source": [
        "This code defines a Python class called Book to represent a book.\n",
        "\n",
        "Here's a breakdown of the code:\n",
        "\n",
        "class Book:: This line defines a new class named Book.\n",
        "\"\"\"A class to represent a book.\"\"\": This is a docstring for the class, explaining its purpose.\n",
        "def __init__(self, title, author):: This is the constructor method of the class. It's called when you create a new Book object.\n",
        "self: Refers to the instance of the class being created.\n",
        "title: An argument to pass the title of the book when creating an object.\n",
        "author: An argument to pass the author of the book when creating an object.\n",
        "\"\"\"Initializes a new Book object.\"\"\": This is a docstring for the __init__ method.\n",
        "self.title = title: This line assigns the value passed to the title argument to an attribute of the object called self.title.\n",
        "self.author = author: This line assigns the value passed to the author argument to an attribute of the object called self.author.\n",
        "def summary(self):: This defines a method called summary within the Book class.\n",
        "self: Refers to the instance of the class that the method is called on.\n",
        "\"\"\"Prints the details of the book.\"\"\": This is a docstring for the summary method.\n",
        "print(f\"Title: {self.title}\"): This line prints the title of the book using an f-string to include the value of the self.title attribute.\n",
        "print(f\"Author: {self.author}\"): This line prints the author of the book using an f-string to include the value of the self.author attribute.\n",
        "The lines after the class definition show an example of how to use the Book class:\n",
        "\n",
        "my_book = Book(\"The Hitchhiker's Guide to the Galaxy\", \"Douglas Adams\"): This creates a new instance (object) of the Book class. It calls the __init__ method, passing \"The Hitchhiker's Guide to the Galaxy\" as the title and \"Douglas Adams\" as the author. The created object is assigned to the variable my_book.\n",
        "my_book.summary(): This calls the summary() method on the my_book object. This will execute the code inside the summary method and print the title and author of my_book."
      ],
      "metadata": {
        "id": "NZJXUKw-7vZ7"
      }
    },
    {
      "cell_type": "markdown",
      "source": [],
      "metadata": {
        "id": "Xc2lvZgb7hlA"
      }
    },
    {
      "cell_type": "markdown",
      "source": [
        "task 4: Ask Gemini to write a program that checks whether a number is an Armstrong\n",
        "number, and then modify it using Cursor AI to improve performance or structure."
      ],
      "metadata": {
        "id": "spZpdWjj79Jw"
      }
    },
    {
      "cell_type": "code",
      "source": [
        "def is_armstrong_number(num):\n",
        "  \"\"\"Checks if a number is an Armstrong number.\"\"\"\n",
        "  # Convert the number to a string to get the number of digits\n",
        "  num_str = str(num)\n",
        "  num_digits = len(num_str)\n",
        "  armstrong_sum = 0\n",
        "  # Calculate the sum of digits raised to the power of the number of digits\n",
        "  for digit in num_str:\n",
        "    armstrong_sum += int(digit) ** num_digits\n",
        "  # Check if the sum is equal to the original number\n",
        "  return armstrong_sum == num\n",
        "\n",
        "# Example usage:\n",
        "print(is_armstrong_number(153))\n",
        "print(is_armstrong_number(123))"
      ],
      "metadata": {
        "id": "kbUgxZc97-YN"
      },
      "execution_count": null,
      "outputs": []
    },
    {
      "cell_type": "markdown",
      "source": [
        "This code defines a Python function called is_armstrong_number that checks if a given number is an Armstrong number. An Armstrong number is a number that is equal to the sum of its own digits each raised to the power of the number of digits.\n",
        "\n",
        "Here's a breakdown of the code:\n",
        "\n",
        "def is_armstrong_number(num):: This line defines the function is_armstrong_number and indicates that it accepts one argument, num.\n",
        "\"\"\"Checks if a number is an Armstrong number.\"\"\": This is a docstring, explaining the purpose of the function.\n",
        "num_str = str(num): The input number num is converted to a string (num_str). This is done to easily access individual digits and determine the number of digits.\n",
        "num_digits = len(num_str): The length of the string representation of the number is calculated, which gives the number of digits in the original number.\n",
        "armstrong_sum = 0: A variable armstrong_sum is initialized to 0. This variable will store the sum of the digits raised to the power of the number of digits.\n",
        "for digit in num_str:: This loop iterates through each character (digit) in the num_str.\n",
        "armstrong_sum += int(digit) ** num_digits: Inside the loop, each digit (which is currently a character) is converted back to an integer using int(digit). This integer is then raised to the power of num_digits using the ** operator, and the result is added to the armstrong_sum.\n",
        "return armstrong_sum == num: After the loop finishes, the function compares the calculated armstrong_sum with the original input number num. If they are equal, the function returns True (indicating it's an Armstrong number); otherwise, it returns False.\n",
        "The lines after the function definition are example usages of the is_armstrong_number function, printing the result for the numbers 153 and 123.\n",
        "\n"
      ],
      "metadata": {
        "id": "1Ik58I508M2t"
      }
    },
    {
      "cell_type": "markdown",
      "source": [
        "task 5: Use both Gemini and Cursor AI to generate code for sorting a list of dictionaries by a\n",
        "specific key (e.g., age)"
      ],
      "metadata": {
        "id": "GOy5xXK48Opi"
      }
    },
    {
      "cell_type": "code",
      "source": [
        "def sort_list_of_dicts(list_of_dicts, key_to_sort_by):\n",
        "  \"\"\"\n",
        "  Sorts a list of dictionaries by a specified key.\n",
        "\n",
        "  Args:\n",
        "    list_of_dicts: The list of dictionaries to sort.\n",
        "    key_to_sort_by: The key to sort the dictionaries by.\n",
        "\n",
        "  Returns:\n",
        "    A new list of dictionaries sorted by the specified key.\n",
        "  \"\"\"\n",
        "  return sorted(list_of_dicts, key=lambda x: x[key_to_sort_by])\n",
        "\n",
        "# Example usage:\n",
        "data = [\n",
        "    {\"name\": \"Alice\", \"age\": 30},\n",
        "    {\"name\": \"Bob\", \"age\": 25},\n",
        "    {\"name\": \"Charlie\", \"age\": 35}\n",
        "]\n",
        "\n",
        "sorted_data = sort_list_of_dicts(data, \"age\")\n",
        "print(sorted_data)"
      ],
      "metadata": {
        "id": "WlMyb8EK8TMS"
      },
      "execution_count": null,
      "outputs": []
    },
    {
      "cell_type": "markdown",
      "source": [
        "This code defines a Python function called sort_list_of_dicts that takes a list of dictionaries and a key as input, and returns a new list of those dictionaries sorted by the values associated with the specified key.\n",
        "\n",
        "Here's a breakdown of the code:\n",
        "\n",
        "def sort_list_of_dicts(list_of_dicts, key_to_sort_by):: This defines the function sort_list_of_dicts which accepts two arguments: list_of_dicts (the list of dictionaries to be sorted) and key_to_sort_by (the string representing the key to sort by).\n",
        "\"\"\"Docstring explaining the function.\"\"\": This is a docstring that explains what the function does, its arguments, and what it returns.\n",
        "return sorted(list_of_dicts, key=lambda x: x[key_to_sort_by]): This is the core of the sorting logic.\n",
        "sorted(): This is a built-in Python function that returns a new sorted list from the items in an iterable.\n",
        "list_of_dicts: This is the list of dictionaries that the sorted() function will operate on.\n",
        "key=lambda x: x[key_to_sort_by]: This is the key argument for the sorted() function. It specifies a function to be called on each list element prior to making comparisons.\n",
        "lambda x:: This defines a small anonymous function (a lambda function) that takes one argument, x. In this context, x will represent each dictionary in the list_of_dicts during the sorting process.\n",
        "x[key_to_sort_by]: This accesses the value associated with the key_to_sort_by within each dictionary x. The sorted() function will use these values to determine the order of the dictionaries in the resulting list.\n",
        "The lines after the function definition show an example of how to use the function:\n",
        "\n",
        "data = [...]: This creates a sample list of dictionaries called data, where each dictionary represents a person with a \"name\" and \"age\".\n",
        "sorted_data = sort_list_of_dicts(data, \"age\"): This calls the sort_list_of_dicts function with the data list and the string \"age\" as the key_to_sort_by. The function sorts the list based on the \"age\" values and the resulting sorted list is stored in the sorted_data variable.\n",
        "print(sorted_data): This prints the sorted_data list to the console, showing the dictionaries sorted by the \"age\" key."
      ],
      "metadata": {
        "id": "M9z1nn3X9fyQ"
      }
    },
    {
      "cell_type": "markdown",
      "source": [],
      "metadata": {
        "id": "dEq6iToB89f3"
      }
    },
    {
      "cell_type": "markdown",
      "source": [],
      "metadata": {
        "id": "iyPMP_XS89Yj"
      }
    }
  ]
}